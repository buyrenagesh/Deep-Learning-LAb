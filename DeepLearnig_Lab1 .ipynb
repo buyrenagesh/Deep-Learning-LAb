{
 "cells": [
  {
   "cell_type": "markdown",
   "metadata": {},
   "source": [
    "<p style=\"margin-top:0in;margin-right:0in;margin-bottom:8.0pt;margin-left:0in;line-height:107%;font-size:15px;font-family:&quot;Calibri&quot;,sans-serif;text-align:center;\"><span style=\"font-size: 20px; color: rgb(41, 105, 176);\">Nagesh Buyre - 19MAI0024</span></p>\n",
    "<p style=\"margin-top:0in;margin-right:0in;margin-bottom:8.0pt;margin-left:0in;line-height:107%;font-size:15px;font-family:&quot;Calibri&quot;,sans-serif;text-align:center;\"><span style=\"font-size:27px;line-height:107%;\">Deep Learning- Lab: Introduction to Python</span></p>\n",
    "<p style=\"margin-top:0in;margin-right:0in;margin-bottom:8.0pt;margin-left:0in;line-height:107%;font-size:15px;font-family:&quot;Calibri&quot;,sans-serif;text-align:center;\"><span style=\"font-size:24px;line-height:107%;font-family:&quot;Calibri&quot;,sans-serif;\">Activity 1</span></p>"
   ]
  },
  {
   "cell_type": "code",
   "execution_count": 1,
   "metadata": {},
   "outputs": [
    {
     "name": "stdout",
     "output_type": "stream",
     "text": [
      "Shakespere gave the best theatrics to the world.\n",
      "Shakespere gave the best theatrics to the world.\n"
     ]
    }
   ],
   "source": [
    "#String with single and double quotes \n",
    "\n",
    "M='Shakespere gave the best theatrics to the world.'\n",
    "N=\"Shakespere gave the best theatrics to the world.\"\n",
    "\n",
    "print(M)\n",
    "print(N)"
   ]
  },
  {
   "cell_type": "code",
   "execution_count": 2,
   "metadata": {},
   "outputs": [
    {
     "name": "stdout",
     "output_type": "stream",
     "text": [
      "Considered the greatest English-speaking writer in history and known as England’s national poet, William Shakespeare (1564-1616) has had more theatrical works performed than any other playwright. To this day, countless theater festivals around the world honor his work, students memorize his eloquent poems and scholars reinterpret the million words of text he composed. They also hunt for clues about the life of the man who inspires such “bardolatry” (as George Bernard Shaw derisively called it), much of which remains shrouded in mystery. Born into a family of modest means in Elizabethan England, the “Bard of Avon” wrote at least 37 plays and a collection of sonnets, established the legendary Globe theater and helped transform the English language.\n"
     ]
    }
   ],
   "source": [
    "#Here paragarph is given as string\n",
    "\n",
    "l='Considered the greatest English-speaking writer in history and known as England’s national poet, William Shakespeare (1564-1616) has had more theatrical works performed than any other playwright. To this day, countless theater festivals around the world honor his work, students memorize his eloquent poems and scholars reinterpret the million words of text he composed. They also hunt for clues about the life of the man who inspires such “bardolatry” (as George Bernard Shaw derisively called it), much of which remains shrouded in mystery. Born into a family of modest means in Elizabethan England, the “Bard of Avon” wrote at least 37 plays and a collection of sonnets, established the legendary Globe theater and helped transform the English language.'\n",
    "print(l)"
   ]
  },
  {
   "cell_type": "code",
   "execution_count": 3,
   "metadata": {},
   "outputs": [
    {
     "ename": "SyntaxError",
     "evalue": "EOL while scanning string literal (<ipython-input-3-bdcfe53bede3>, line 3)",
     "output_type": "error",
     "traceback": [
      "\u001b[1;36m  File \u001b[1;32m\"<ipython-input-3-bdcfe53bede3>\"\u001b[1;36m, line \u001b[1;32m3\u001b[0m\n\u001b[1;33m    l='Considered the greatest English-speaking writer in history and known as England’s national poet, William Shakespeare (1564-1616) has had more\u001b[0m\n\u001b[1;37m                                                                                                                                                     ^\u001b[0m\n\u001b[1;31mSyntaxError\u001b[0m\u001b[1;31m:\u001b[0m EOL while scanning string literal\n"
     ]
    }
   ],
   "source": [
    "#Here paragarph is given as string but the new paragraph cannot be added in the string\n",
    "\n",
    "l='Considered the greatest English-speaking writer in history and known as England’s national poet, William Shakespeare (1564-1616) has had more \n",
    "theatrical works performed than any other playwright. To this day, countless theater festivals around the world honor his work, students memorize his eloquent poems and scholars reinterpret the million words of text he \n",
    "composed. They also hunt for clues about the life of the man who inspires such “bardolatry” (as George Bernard Shaw derisively called it), much of which remains shrouded in mystery. Born into a family of modest means in Elizabethan England, the “Bard of Avon” wrote at least 37 plays and a collection of sonnets, established the legendary Globe theater and helped transform the English language.'\n",
    "print(l)"
   ]
  },
  {
   "cell_type": "code",
   "execution_count": 4,
   "metadata": {},
   "outputs": [
    {
     "name": "stdout",
     "output_type": "stream",
     "text": [
      "Considered the greatest English-speaking writer in history and known as England’s national poet, William Shakespeare (1564-1616) has had more \n",
      "theatrical works performed than any other playwright. To this day, countless theater festivals around the world honor his work, students memorize his eloquent poems and scholars reinterpret the million words of text he \n",
      "composed. They also hunt for clues about the life of the man who inspires such “bardolatry” (as George Bernard Shaw derisively called it), much of which remains shrouded in mystery. Born into a family of modest means in Elizabethan England, the “Bard of Avon” wrote at least 37 plays and a collection of sonnets, established the legendary Globe theater and helped transform the English language.\n"
     ]
    }
   ],
   "source": [
    "#Paragarph handling \n",
    "\n",
    "l='''Considered the greatest English-speaking writer in history and known as England’s national poet, William Shakespeare (1564-1616) has had more \n",
    "theatrical works performed than any other playwright. To this day, countless theater festivals around the world honor his work, students memorize his eloquent poems and scholars reinterpret the million words of text he \n",
    "composed. They also hunt for clues about the life of the man who inspires such “bardolatry” (as George Bernard Shaw derisively called it), much of which remains shrouded in mystery. Born into a family of modest means in Elizabethan England, the “Bard of Avon” wrote at least 37 plays and a collection of sonnets, established the legendary Globe theater and helped transform the English language.'''\n",
    "print(l)"
   ]
  },
  {
   "cell_type": "code",
   "execution_count": 5,
   "metadata": {},
   "outputs": [
    {
     "name": "stdout",
     "output_type": "stream",
     "text": [
      "['Prague', 'Manchester', 'Glassgow', 'Madrid', 'Barcelona', 'London', 'Paris', 'Venice', 'Amsterdamn', 'Rome', 'tusk']\n",
      "Glassgow\n"
     ]
    }
   ],
   "source": [
    "#List\n",
    "\n",
    "c=['Prague', 'Manchester', 'Glassgow', 'Madrid', 'Barcelona', 'London', 'Paris', 'Venice', 'Amsterdamn', 'Rome']\n",
    "c.append('tusk')\n",
    "print(c)\n",
    "print(c[2])\n"
   ]
  },
  {
   "cell_type": "code",
   "execution_count": 6,
   "metadata": {},
   "outputs": [
    {
     "name": "stdout",
     "output_type": "stream",
     "text": [
      "['Prague', 'Glassgow', 'Madrid', 'Barcelona', 'London', 'Paris', 'Venice', 'Amsterdamn', 'Rome', 'tusk']\n"
     ]
    }
   ],
   "source": [
    "#removing element from a list\n",
    "c.remove('Manchester')\n",
    "print(c)\n"
   ]
  },
  {
   "cell_type": "code",
   "execution_count": 7,
   "metadata": {
    "scrolled": true
   },
   "outputs": [
    {
     "ename": "AttributeError",
     "evalue": "'tuple' object has no attribute 'append'",
     "output_type": "error",
     "traceback": [
      "\u001b[1;31m---------------------------------------------------------------------------\u001b[0m",
      "\u001b[1;31mAttributeError\u001b[0m                            Traceback (most recent call last)",
      "\u001b[1;32m<ipython-input-7-956db7ba529b>\u001b[0m in \u001b[0;36m<module>\u001b[1;34m\u001b[0m\n\u001b[0;32m      1\u001b[0m \u001b[1;31m#Tuple\u001b[0m\u001b[1;33m\u001b[0m\u001b[1;33m\u001b[0m\u001b[1;33m\u001b[0m\u001b[0m\n\u001b[0;32m      2\u001b[0m \u001b[0mc\u001b[0m\u001b[1;33m=\u001b[0m\u001b[1;34m'Prague'\u001b[0m\u001b[1;33m,\u001b[0m \u001b[1;34m'Manchester'\u001b[0m\u001b[1;33m,\u001b[0m \u001b[1;34m'Glassgow'\u001b[0m\u001b[1;33m,\u001b[0m \u001b[1;34m'Madrid'\u001b[0m\u001b[1;33m,\u001b[0m \u001b[1;34m'Barcelona'\u001b[0m\u001b[1;33m,\u001b[0m \u001b[1;34m'London'\u001b[0m\u001b[1;33m,\u001b[0m \u001b[1;34m'Paris'\u001b[0m\u001b[1;33m,\u001b[0m \u001b[1;34m'Venice'\u001b[0m\u001b[1;33m,\u001b[0m \u001b[1;34m'Amsterdamn'\u001b[0m\u001b[1;33m,\u001b[0m \u001b[1;34m'Rome'\u001b[0m\u001b[1;33m\u001b[0m\u001b[1;33m\u001b[0m\u001b[0m\n\u001b[1;32m----> 3\u001b[1;33m \u001b[0mc\u001b[0m\u001b[1;33m.\u001b[0m\u001b[0mappend\u001b[0m\u001b[1;33m(\u001b[0m\u001b[1;34m'tusk'\u001b[0m\u001b[1;33m)\u001b[0m\u001b[1;33m\u001b[0m\u001b[1;33m\u001b[0m\u001b[0m\n\u001b[0m\u001b[0;32m      4\u001b[0m \u001b[0mprint\u001b[0m\u001b[1;33m(\u001b[0m\u001b[0mc\u001b[0m\u001b[1;33m)\u001b[0m\u001b[1;33m\u001b[0m\u001b[1;33m\u001b[0m\u001b[0m\n",
      "\u001b[1;31mAttributeError\u001b[0m: 'tuple' object has no attribute 'append'"
     ]
    }
   ],
   "source": [
    "#Tuple\n",
    "c='Prague', 'Manchester', 'Glassgow', 'Madrid', 'Barcelona', 'London', 'Paris', 'Venice', 'Amsterdamn', 'Rome'\n",
    "c.append('tusk')\n",
    "print(c)\n"
   ]
  },
  {
   "cell_type": "code",
   "execution_count": 8,
   "metadata": {},
   "outputs": [
    {
     "name": "stdout",
     "output_type": "stream",
     "text": [
      "('Prague', 'Manchester', 'Glassgow', 'Madrid', 'Barcelona', 'London', 'Paris', 'Venice', 'Amsterdamn', 'Rome')\n"
     ]
    }
   ],
   "source": [
    "#Tuple does not support append() like list\n",
    "#It is used for the fixed dataset\n",
    "\n",
    "#printing tuple\n",
    "print(c)\n"
   ]
  },
  {
   "cell_type": "code",
   "execution_count": 9,
   "metadata": {},
   "outputs": [
    {
     "name": "stdout",
     "output_type": "stream",
     "text": [
      "{'Cricket': 'Harmit Kaur', 'Shooting': 'Abhinav Bindra', 'Boxing': 'Yogender Dutta', 'Billards': 'Nikhil Adwani', 'Football': 'Sunil Chhetri'}\n"
     ]
    }
   ],
   "source": [
    "#Dictionary\n",
    "Sport={'Cricket':'Harmit Kaur', 'Shooting':'Abhinav Bindra', 'Boxing':'Yogender Dutta', 'Billards':'Nikhil Adwani',\n",
    "       'Football':'Sunil Chhetri'}\n",
    "print(Sport)"
   ]
  },
  {
   "cell_type": "code",
   "execution_count": null,
   "metadata": {},
   "outputs": [],
   "source": []
  }
 ],
 "metadata": {
  "kernelspec": {
   "display_name": "Python 3",
   "language": "python",
   "name": "python3"
  },
  "language_info": {
   "codemirror_mode": {
    "name": "ipython",
    "version": 3
   },
   "file_extension": ".py",
   "mimetype": "text/x-python",
   "name": "python",
   "nbconvert_exporter": "python",
   "pygments_lexer": "ipython3",
   "version": "3.7.3"
  }
 },
 "nbformat": 4,
 "nbformat_minor": 2
}
